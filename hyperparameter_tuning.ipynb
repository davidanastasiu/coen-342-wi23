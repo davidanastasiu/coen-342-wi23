{
 "cells": [
  {
   "cell_type": "markdown",
   "metadata": {},
   "source": [
    "## Hyperparameter Tuning\n",
    "\n",
    "In this notebook we will play around with arguibly the most important parameter in Deep Learning, the *learning rate*. The notebook follows the code in the article <a href=\"https://www.geeksforgeeks.org/adjusting-learning-rate-of-a-neural-network-in-pytorch/\">Adjusting Learning Rate of a Neural Netowrk in Pytorch</a> by Herumb Shandilya."
   ]
  },
  {
   "cell_type": "code",
   "execution_count": 1,
   "metadata": {},
   "outputs": [],
   "source": [
    "# First, importing modules\n",
    "import torch\n",
    "from torch import nn\n",
    "import torch.nn.functional as F\n",
    "from torchvision import datasets\n",
    "from torchvision.transforms import ToTensor\n",
    "from torch.utils.data import DataLoader\n",
    "from torch.optim import SGD\n",
    "from torch.optim.lr_scheduler import ReduceLROnPlateau\n",
    "import numpy as np\n",
    "from tqdm.notebook import trange"
   ]
  },
  {
   "cell_type": "markdown",
   "metadata": {},
   "source": [
    "We will train a simple network to recognize hand written digits uring the MNIST dataset. First, we need to load the data, which we have to pre-download and copy to the HPC. An alternative is to download using the login node, as follows.\n",
    "\n",
    "* Open a terminal and SSH into `login1` or `login2`.\n",
    "* Load an appropriate module to use torch, e.g., `PyTorch`.\n",
    "\n",
    "```module load PyTorch```\n",
    "\n",
    "* Change directory to your data directory.\n",
    "* Start `ipython` and load the dataset using the `dowload=True` flag.\n",
    "* In the Jupyter notebook running on the HPC node, change the data load command appropriately to point to the location of the dataset.\n"
   ]
  },
  {
   "cell_type": "code",
   "execution_count": 2,
   "metadata": {
    "tags": []
   },
   "outputs": [],
   "source": [
    "# LOADING DATA\n",
    "train = datasets.MNIST(root='/WAVE/projects/COEN-342-Wi23/data/', train = True, download = False, transform=ToTensor())\n",
    "valid = datasets.MNIST(root='/WAVE/projects/COEN-342-Wi23/data/', train = False, download = False, transform=ToTensor())\n",
    "\n",
    "trainloader = DataLoader(train, batch_size= 32, shuffle=True)\n",
    "validloader = DataLoader(valid, batch_size= 32, shuffle=True)"
   ]
  },
  {
   "cell_type": "markdown",
   "metadata": {},
   "source": [
    "**Creating the model**\n",
    "\n",
    "We are defining a neural network with the following architecture:\n",
    "\n",
    "- Input Layer: 784 nodes, MNIST images are of dimension 28*28 which have 784 pixels so when flatted it’ll become the input to the neural network with 784 input nodes.\n",
    "- Hidden Layer 1: 256 nodes\n",
    "- Hidden Layer 2: 128 nodes\n",
    "- Output Layer: 10 nodes, for 10 classes i.e. numbers 0-9\n",
    "\n",
    "`nn.Linear()` or Linear Layer is used to apply a linear transformation to the incoming data. For those familiar with TensorFlow, it’s pretty much like the Dense Layer. \n",
    "\n",
    "In the forward() method, we start by flattening the image and passing it through each layer, applying the `ReLU` activation before moving on to the next layer. After that, we create our neural network instance, and we're ready to go."
   ]
  },
  {
   "cell_type": "code",
   "execution_count": 3,
   "metadata": {},
   "outputs": [],
   "source": [
    "# CREATING OUR MODEL\n",
    "class Net(nn.Module):\n",
    "    def __init__(self):\n",
    "        super(Net,self).__init__()\n",
    "        self.fc1 = nn.Linear(28*28,64)\n",
    "        self.fc2 = nn.Linear(64,32)\n",
    "        self.out = nn.Linear(32,10)\n",
    "        self.lr = 0.01\n",
    "        self.loss = nn.CrossEntropyLoss()\n",
    "    \n",
    "    def forward(self,x):\n",
    "        batch_size, _, _, _ = x.size()\n",
    "        x = x.view(batch_size,-1)\n",
    "        x = F.relu(self.fc1(x))\n",
    "        x = F.relu(self.fc2(x))\n",
    "        return self.out(x)\n",
    "\n",
    "model = Net()"
   ]
  },
  {
   "cell_type": "markdown",
   "metadata": {},
   "source": [
    "Finally, we check to see if a GPU is available and, if it is, send the model to the GPU memory."
   ]
  },
  {
   "cell_type": "code",
   "execution_count": 4,
   "metadata": {},
   "outputs": [],
   "source": [
    "# Send the model to GPU if available\n",
    "if torch.cuda.is_available():\n",
    "    print(\"Using GPU for training.\")\n",
    "    model = model.cuda()"
   ]
  },
  {
   "cell_type": "markdown",
   "metadata": {},
   "source": [
    "**Defining Criterion and Optimizer**\n",
    "\n",
    "Optimizers define how the weights of the neural network are to be updated, in this tutorial we’ll use the Stochastic Gradient Descent (SGD) optimizer. Optimizers take model parameters and learning rate as the input arguments. There are various optimizers you can try like Adam, Adagrad, etc.\n",
    "\n",
    "The criterion is the loss that you want to minimize which in this case is the CrossEntropyLoss() which is the combination of log_softmax() and NLLLoss(). Different losses are applicable to different types of problems, so be sure to understand the assumptions of the loss and whether they apply to the problem you are trying to solve."
   ]
  },
  {
   "cell_type": "code",
   "execution_count": 5,
   "metadata": {},
   "outputs": [],
   "source": [
    "# SETTING OPTIMIZER, LOSS AND SCHEDULER\n",
    "optimizer = SGD(model.parameters(), lr = 0.1)\n",
    "loss = nn.CrossEntropyLoss()\n",
    "scheduler = ReduceLROnPlateau(optimizer, 'min', patience = 5)"
   ]
  },
  {
   "cell_type": "markdown",
   "metadata": {},
   "source": [
    "**Training Neural Network with Validation**\n",
    "\n",
    "The training step in PyTorch is almost identical almost every time you train it. But before implementing that let’s learn about 2 modes of the model object:\n",
    "\n",
    "- Training Mode:  Set by model.train(), it tells your model that you are training the model. So layers like dropout etc. which behave differently while training and testing can behave accordingly.\n",
    "- Evaluation Mode:  Set by model.eval(), it tells your model that you are testing the model.\n",
    "\n",
    "For each training step, the following operations must occur, in order:\n",
    "\n",
    "- Move data to GPU (Optional)\n",
    "- Clear the gradients using `optimizer.zero_grad()`\n",
    "- Make a forward pass\n",
    "- Calculate the loss\n",
    "- Perform a backward pass using `.backward()` to calculate the gradients\n",
    "- Take optimizer step using `optimizer.step()` to update the weights\n",
    "\n",
    "Finally, we keep track of the lowest validation error we have so far and save the model any time it is better than our best saved model thus far."
   ]
  },
  {
   "cell_type": "code",
   "execution_count": 6,
   "metadata": {},
   "outputs": [
    {
     "data": {
      "application/vnd.jupyter.widget-view+json": {
       "model_id": "34adbb46315c464bbd83d97d8dcf02f1",
       "version_major": 2,
       "version_minor": 0
      },
      "text/plain": [
       "  0%|          | 0/25 [00:00<?, ?it/s]"
      ]
     },
     "metadata": {},
     "output_type": "display_data"
    },
    {
     "name": "stdout",
     "output_type": "stream",
     "text": [
      "Epoch 0\t             Training Loss: 12.32785096470515\t             Validation Loss:6.080174063531736\t             LR:0.1\n",
      "Validation Loss Decreased(inf--->1903.094482) \t Saving the model.\n",
      "Epoch 1\t             Training Loss: 4.84947075612545\t             Validation Loss:3.8744114325783503\t             LR:0.1\n",
      "Validation Loss Decreased(1903.094482--->1212.690778) \t Saving the model.\n",
      "Epoch 2\t             Training Loss: 3.4536620694319407\t             Validation Loss:3.25047709771429\t             LR:0.1\n",
      "Validation Loss Decreased(1212.690778--->1017.399332) \t Saving the model.\n",
      "Epoch 3\t             Training Loss: 2.768480228208502\t             Validation Loss:3.4791399148611215\t             LR:0.1\n",
      "Epoch 4\t             Training Loss: 2.2923720826387406\t             Validation Loss:3.129061575598134\t             LR:0.1\n",
      "Validation Loss Decreased(1017.399332--->979.396273) \t Saving the model.\n",
      "Epoch 5\t             Training Loss: 1.997271915280819\t             Validation Loss:3.1582198922221845\t             LR:0.1\n",
      "Epoch 6\t             Training Loss: 1.6916557537317276\t             Validation Loss:2.8167166242215296\t             LR:0.1\n",
      "Validation Loss Decreased(979.396273--->881.632303) \t Saving the model.\n",
      "Epoch 7\t             Training Loss: 1.4537755679383875\t             Validation Loss:2.574169591646463\t             LR:0.1\n",
      "Validation Loss Decreased(881.632303--->805.715082) \t Saving the model.\n",
      "Epoch 8\t             Training Loss: 1.2808040578700601\t             Validation Loss:2.8288351338380537\t             LR:0.1\n",
      "Epoch 9\t             Training Loss: 1.1140820195714634\t             Validation Loss:3.031144323827217\t             LR:0.1\n",
      "Epoch 10\t             Training Loss: 0.979828465723743\t             Validation Loss:2.9735469159702905\t             LR:0.1\n",
      "Epoch 11\t             Training Loss: 0.8851270648825914\t             Validation Loss:2.700300549094479\t             LR:0.1\n",
      "Epoch 12\t             Training Loss: 0.7697375453090916\t             Validation Loss:3.252270646650677\t             LR:0.1\n",
      "Epoch 13\t             Training Loss: 0.6099697248190331\t             Validation Loss:3.0414859728765684\t             LR:0.1\n",
      "Epoch 14\t             Training Loss: 0.2975553596608496\t             Validation Loss:2.5244586272247003\t             LR:0.010000000000000002\n",
      "Validation Loss Decreased(805.715082--->790.155550) \t Saving the model.\n",
      "Epoch 15\t             Training Loss: 0.22307114502335898\t             Validation Loss:2.496351072549007\t             LR:0.010000000000000002\n",
      "Validation Loss Decreased(790.155550--->781.357886) \t Saving the model.\n",
      "Epoch 16\t             Training Loss: 0.19961209261169036\t             Validation Loss:2.5073388593339065\t             LR:0.010000000000000002\n",
      "Epoch 17\t             Training Loss: 0.1859834779132468\t             Validation Loss:2.515711286553768\t             LR:0.010000000000000002\n",
      "Epoch 18\t             Training Loss: 0.1746963886563511\t             Validation Loss:2.541535931652019\t             LR:0.010000000000000002\n",
      "Epoch 19\t             Training Loss: 0.16714906607071559\t             Validation Loss:2.517963140620664\t             LR:0.010000000000000002\n",
      "Epoch 20\t             Training Loss: 0.1597438587182512\t             Validation Loss:2.5345795069393082\t             LR:0.010000000000000002\n",
      "Epoch 21\t             Training Loss: 0.15337508661273558\t             Validation Loss:2.5439710111770863\t             LR:0.010000000000000002\n",
      "Epoch 22\t             Training Loss: 0.14228163756337017\t             Validation Loss:2.537828180671539\t             LR:0.0010000000000000002\n",
      "Epoch 23\t             Training Loss: 0.1414133593102917\t             Validation Loss:2.537485842706826\t             LR:0.0010000000000000002\n",
      "Epoch 24\t             Training Loss: 0.14081651530622816\t             Validation Loss:2.536109259198851\t             LR:0.0010000000000000002\n"
     ]
    }
   ],
   "source": [
    "# TRAINING THE NEURAL NETWORK\n",
    "nepochs = 25\n",
    "min_valid_loss = np.inf\n",
    "for e in trange(nepochs):\n",
    "    train_loss, valid_loss = 0.0, 0.0\n",
    "    \n",
    "    # Set model to training mode\n",
    "    model.train()\n",
    "    for data, label in trainloader:\n",
    "        # Transfer Data to GPU if available\n",
    "        if torch.cuda.is_available():\n",
    "            data, label = data.cuda(), label.cuda()\n",
    "        # Clear the gradients\n",
    "        optimizer.zero_grad()\n",
    "        # Forward Pass\n",
    "        target = model(data)\n",
    "        # Find the Loss\n",
    "        train_step_loss = loss(target, label)\n",
    "        # Calculate gradients \n",
    "        train_step_loss.backward()\n",
    "        # Update Weights\n",
    "        optimizer.step()\n",
    "        # Calculate Loss\n",
    "        train_loss += train_step_loss.item() * data.size(0)\n",
    "\n",
    "    # Set model to inference/evaluation mode\n",
    "    model.eval()\n",
    "    for data, label in validloader:\n",
    "        if torch.cuda.is_available():\n",
    "            data, label = data.cuda(), label.cuda()\n",
    "\n",
    "        target = model(data)\n",
    "        valid_step_loss = loss(target, label)\n",
    "\n",
    "        valid_loss += valid_step_loss.item() * data.size(0)\n",
    "    \n",
    "    curr_lr = optimizer.param_groups[0]['lr']\n",
    "\n",
    "    print(f'Epoch {e}\\t \\\n",
    "            Training Loss: {train_loss/len(trainloader)}\\t \\\n",
    "            Validation Loss:{valid_loss/len(validloader)}\\t \\\n",
    "            LR:{curr_lr}')\n",
    "    if min_valid_loss > valid_loss:\n",
    "        print(f'Validation Loss Decreased({min_valid_loss:.6f}--->{valid_loss:.6f}) \\t Saving the model.')\n",
    "        min_valid_loss = valid_loss\n",
    "        # Saving State Dict\n",
    "        torch.save(model.state_dict(), 'mnist.pth')\n",
    "    scheduler.step(valid_loss/len(validloader))"
   ]
  },
  {
   "cell_type": "code",
   "execution_count": null,
   "metadata": {},
   "outputs": [],
   "source": []
  }
 ],
 "metadata": {
  "kernelspec": {
   "display_name": "PyTorch",
   "language": "python",
   "name": "pytorch-cpu"
  },
  "language_info": {
   "codemirror_mode": {
    "name": "ipython",
    "version": 3
   },
   "file_extension": ".py",
   "mimetype": "text/x-python",
   "name": "python",
   "nbconvert_exporter": "python",
   "pygments_lexer": "ipython3",
   "version": "3.9.13"
  }
 },
 "nbformat": 4,
 "nbformat_minor": 4
}
